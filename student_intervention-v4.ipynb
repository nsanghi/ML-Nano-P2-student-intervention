{
 "cells": [
  {
   "cell_type": "markdown",
   "metadata": {},
   "source": [
    "# Project 2: Supervised Learning\n",
    "### Building a Student Intervention System"
   ]
  },
  {
   "cell_type": "markdown",
   "metadata": {},
   "source": [
    "## 1. Classification vs Regression\n",
    "\n",
    "Your goal is to identify students who might need early intervention - which type of supervised machine learning problem is this, classification or regression? Why?"
   ]
  },
  {
   "cell_type": "markdown",
   "metadata": {},
   "source": [
    "## 2. Exploring the Data\n",
    "\n",
    "Let's go ahead and read in the student dataset first.\n",
    "\n",
    "_To execute a code cell, click inside it and press **Shift+Enter**._"
   ]
  },
  {
   "cell_type": "code",
   "execution_count": 58,
   "metadata": {
    "collapsed": false
   },
   "outputs": [],
   "source": [
    "# Import libraries\n",
    "import numpy as np\n",
    "import pandas as pd"
   ]
  },
  {
   "cell_type": "code",
   "execution_count": 59,
   "metadata": {
    "collapsed": false
   },
   "outputs": [
    {
     "name": "stdout",
     "output_type": "stream",
     "text": [
      "Student data read successfully!\n"
     ]
    }
   ],
   "source": [
    "# Read student data\n",
    "student_data = pd.read_csv(\"student-data.csv\")\n",
    "print \"Student data read successfully!\"\n",
    "# Note: The last column 'passed' is the target/label, all other are feature columns"
   ]
  },
  {
   "cell_type": "markdown",
   "metadata": {},
   "source": [
    "Now, can you find out the following facts about the dataset?\n",
    "- Total number of students\n",
    "- Number of students who passed\n",
    "- Number of students who failed\n",
    "- Graduation rate of the class (%)\n",
    "- Number of features\n",
    "\n",
    "_Use the code block below to compute these values. Instructions/steps are marked using **TODO**s._"
   ]
  },
  {
   "cell_type": "code",
   "execution_count": 60,
   "metadata": {
    "collapsed": false
   },
   "outputs": [
    {
     "name": "stdout",
     "output_type": "stream",
     "text": [
      "Total number of students: 395\n",
      "Number of students who passed: 265\n",
      "Number of students who failed: 130\n",
      "Number of features: 30\n",
      "Graduation rate of the class: 67.09%\n"
     ]
    }
   ],
   "source": [
    "# TODO: Compute desired values - replace each '?' with an appropriate expression/function call\n",
    "n_students = len(student_data)\n",
    "n_features = len(student_data.columns)-1\n",
    "n_passed = len(student_data[student_data['passed'] == 'yes'])\n",
    "n_failed = len(student_data[student_data['passed'] == 'no'])\n",
    "grad_rate = float(n_passed) / float(n_students) * 100\n",
    "print \"Total number of students: {}\".format(n_students)\n",
    "print \"Number of students who passed: {}\".format(n_passed)\n",
    "print \"Number of students who failed: {}\".format(n_failed)\n",
    "print \"Number of features: {}\".format(n_features)\n",
    "print \"Graduation rate of the class: {:.2f}%\".format(grad_rate)"
   ]
  },
  {
   "cell_type": "markdown",
   "metadata": {},
   "source": [
    "## 3. Preparing the Data\n",
    "In this section, we will prepare the data for modeling, training and testing.\n",
    "\n",
    "### Identify feature and target columns\n",
    "It is often the case that the data you obtain contains non-numeric features. This can be a problem, as most machine learning algorithms expect numeric data to perform computations with.\n",
    "\n",
    "Let's first separate our data into feature and target columns, and see if any features are non-numeric.<br/>\n",
    "**Note**: For this dataset, the last column (`'passed'`) is the target or label we are trying to predict."
   ]
  },
  {
   "cell_type": "code",
   "execution_count": 61,
   "metadata": {
    "collapsed": false
   },
   "outputs": [
    {
     "name": "stdout",
     "output_type": "stream",
     "text": [
      "Feature column(s):-\n",
      "['school', 'sex', 'age', 'address', 'famsize', 'Pstatus', 'Medu', 'Fedu', 'Mjob', 'Fjob', 'reason', 'guardian', 'traveltime', 'studytime', 'failures', 'schoolsup', 'famsup', 'paid', 'activities', 'nursery', 'higher', 'internet', 'romantic', 'famrel', 'freetime', 'goout', 'Dalc', 'Walc', 'health', 'absences']\n",
      "Target column: passed\n",
      "\n",
      "Feature values:-\n",
      "  school sex  age address famsize Pstatus  Medu  Fedu     Mjob      Fjob  \\\n",
      "0     GP   F   18       U     GT3       A     4     4  at_home   teacher   \n",
      "1     GP   F   17       U     GT3       T     1     1  at_home     other   \n",
      "2     GP   F   15       U     LE3       T     1     1  at_home     other   \n",
      "3     GP   F   15       U     GT3       T     4     2   health  services   \n",
      "4     GP   F   16       U     GT3       T     3     3    other     other   \n",
      "\n",
      "    ...    higher internet  romantic  famrel  freetime goout Dalc Walc health  \\\n",
      "0   ...       yes       no        no       4         3     4    1    1      3   \n",
      "1   ...       yes      yes        no       5         3     3    1    1      3   \n",
      "2   ...       yes      yes        no       4         3     2    2    3      3   \n",
      "3   ...       yes      yes       yes       3         2     2    1    1      5   \n",
      "4   ...       yes       no        no       4         3     2    1    2      5   \n",
      "\n",
      "  absences  \n",
      "0        6  \n",
      "1        4  \n",
      "2       10  \n",
      "3        2  \n",
      "4        4  \n",
      "\n",
      "[5 rows x 30 columns]\n"
     ]
    }
   ],
   "source": [
    "# Extract feature (X) and target (y) columns\n",
    "feature_cols = list(student_data.columns[:-1])  # all columns but last are features\n",
    "target_col = student_data.columns[-1]  # last column is the target/label\n",
    "print \"Feature column(s):-\\n{}\".format(feature_cols)\n",
    "print \"Target column: {}\".format(target_col)\n",
    "\n",
    "X_all = student_data[feature_cols]  # feature values for all students\n",
    "y_all = student_data[target_col]  # corresponding targets/labels\n",
    "print \"\\nFeature values:-\"\n",
    "print X_all.head()  # print the first 5 rows"
   ]
  },
  {
   "cell_type": "markdown",
   "metadata": {},
   "source": [
    "### Preprocess feature columns\n",
    "\n",
    "As you can see, there are several non-numeric columns that need to be converted! Many of them are simply `yes`/`no`, e.g. `internet`. These can be reasonably converted into `1`/`0` (binary) values.\n",
    "\n",
    "Other columns, like `Mjob` and `Fjob`, have more than two values, and are known as _categorical variables_. The recommended way to handle such a column is to create as many columns as possible values (e.g. `Fjob_teacher`, `Fjob_other`, `Fjob_services`, etc.), and assign a `1` to one of them and `0` to all others.\n",
    "\n",
    "These generated columns are sometimes called _dummy variables_, and we will use the [`pandas.get_dummies()`](http://pandas.pydata.org/pandas-docs/stable/generated/pandas.get_dummies.html?highlight=get_dummies#pandas.get_dummies) function to perform this transformation."
   ]
  },
  {
   "cell_type": "code",
   "execution_count": 62,
   "metadata": {
    "collapsed": false
   },
   "outputs": [
    {
     "name": "stdout",
     "output_type": "stream",
     "text": [
      "Processed feature columns (48):-\n",
      "['school_GP', 'school_MS', 'sex_F', 'sex_M', 'age', 'address_R', 'address_U', 'famsize_GT3', 'famsize_LE3', 'Pstatus_A', 'Pstatus_T', 'Medu', 'Fedu', 'Mjob_at_home', 'Mjob_health', 'Mjob_other', 'Mjob_services', 'Mjob_teacher', 'Fjob_at_home', 'Fjob_health', 'Fjob_other', 'Fjob_services', 'Fjob_teacher', 'reason_course', 'reason_home', 'reason_other', 'reason_reputation', 'guardian_father', 'guardian_mother', 'guardian_other', 'traveltime', 'studytime', 'failures', 'schoolsup', 'famsup', 'paid', 'activities', 'nursery', 'higher', 'internet', 'romantic', 'famrel', 'freetime', 'goout', 'Dalc', 'Walc', 'health', 'absences']\n"
     ]
    }
   ],
   "source": [
    "# Preprocess feature columns\n",
    "def preprocess_features(X):\n",
    "    outX = pd.DataFrame(index=X.index)  # output dataframe, initially empty\n",
    "\n",
    "    # Check each column\n",
    "    for col, col_data in X.iteritems():\n",
    "        # If data type is non-numeric, try to replace all yes/no values with 1/0\n",
    "        if col_data.dtype == object:\n",
    "            col_data = col_data.replace(['yes', 'no'], [1, 0])\n",
    "        # Note: This should change the data type for yes/no columns to int\n",
    "\n",
    "        # If still non-numeric, convert to one or more dummy variables\n",
    "        if col_data.dtype == object:\n",
    "            col_data = pd.get_dummies(col_data, prefix=col)  # e.g. 'school' => 'school_GP', 'school_MS'\n",
    "\n",
    "        outX = outX.join(col_data)  # collect column(s) in output dataframe\n",
    "\n",
    "    return outX\n",
    "\n",
    "X_all = preprocess_features(X_all)\n",
    "print \"Processed feature columns ({}):-\\n{}\".format(len(X_all.columns), list(X_all.columns))"
   ]
  },
  {
   "cell_type": "markdown",
   "metadata": {},
   "source": [
    "### Split data into training and test sets\n",
    "\n",
    "So far, we have converted all _categorical_ features into numeric values. In this next step, we split the data (both features and corresponding labels) into training and test sets."
   ]
  },
  {
   "cell_type": "code",
   "execution_count": 63,
   "metadata": {
    "collapsed": false
   },
   "outputs": [
    {
     "name": "stdout",
     "output_type": "stream",
     "text": [
      "Training set: 300 samples\n",
      "Test set: 95 samples\n"
     ]
    }
   ],
   "source": [
    "# First, decide how many training vs test samples you want\n",
    "num_all = student_data.shape[0]  # same as len(student_data)\n",
    "num_train = 300  # about 75% of the data\n",
    "num_test = num_all - num_train\n",
    "\n",
    "# TODO: Then, select features (X) and corresponding labels (y) for the training and test sets\n",
    "# Note: Shuffle the data or randomly select samples to avoid any bias due to ordering in the dataset\n",
    "from sklearn.cross_validation import train_test_split\n",
    "\n",
    "X_train, X_test, y_train, y_test = train_test_split(X_all, y_all, test_size=num_test, random_state=42)\n",
    "\n",
    "\n",
    "print \"Training set: {} samples\".format(X_train.shape[0])\n",
    "print \"Test set: {} samples\".format(X_test.shape[0])\n",
    "# Note: If you need a validation set, extract it from within training data"
   ]
  },
  {
   "cell_type": "markdown",
   "metadata": {},
   "source": [
    "## 4. Training and Evaluating Models\n",
    "Choose 3 supervised learning models that are available in scikit-learn, and appropriate for this problem. For each model:\n",
    "\n",
    "- What is the theoretical O(n) time & space complexity in terms of input size?\n",
    "- What are the general applications of this model? What are its strengths and weaknesses?\n",
    "- Given what you know about the data so far, why did you choose this model to apply?\n",
    "- Fit this model to the training data, try to predict labels (for both training and test sets), and measure the F<sub>1</sub> score. Repeat this process with different training set sizes (100, 200, 300), keeping test set constant.\n",
    "\n",
    "Produce a table showing training time, prediction time, F<sub>1</sub> score on training set and F<sub>1</sub> score on test set, for each training set size.\n",
    "\n",
    "Note: You need to produce 3 such tables - one for each model."
   ]
  },
  {
   "cell_type": "markdown",
   "metadata": {},
   "source": [
    "### Baseline Predictor Always Say \"No Intervention\"\n",
    "#### Accuracy and F1 for Training and Test Set"
   ]
  },
  {
   "cell_type": "code",
   "execution_count": 64,
   "metadata": {
    "collapsed": false
   },
   "outputs": [
    {
     "name": "stdout",
     "output_type": "stream",
     "text": [
      "Accuracy Training Set 0.683\n",
      "F1 Training Set 0.812\n",
      "Accuracy Test Set 0.632\n",
      "F1 Test Set 0.774\n",
      "Accuracy Full Set 0.671\n",
      "F1 Full Set 0.803\n"
     ]
    }
   ],
   "source": [
    "n_passed_train = len(y_train[y_train == 'yes'])\n",
    "n_failed_train = len(y_train[y_train == 'no'])\n",
    "accuracy_train = float(n_passed_train) / float(len(y_train))\n",
    "f1_train = 2 * 1 * accuracy_train / (1+accuracy_train)\n",
    "print 'Accuracy Training Set {:.3}'.format(accuracy_train)\n",
    "print 'F1 Training Set {:.3}'.format(f1_train)\n",
    "\n",
    "n_passed_test = len(y_test[y_test == 'yes'])\n",
    "n_failed_test = len(y_test[y_test == 'no'])\n",
    "accuracy_test = float(n_passed_test) / float(len(y_test))\n",
    "f1_test = 2 * 1 * accuracy_test / (1+accuracy_test)\n",
    "print 'Accuracy Test Set {:.3}'.format(accuracy_test)\n",
    "print 'F1 Test Set {:.3}'.format(f1_test)\n",
    "\n",
    "accuracy_all = float(n_passed) / float(len(y_all))\n",
    "f1_all = 2 * 1 * accuracy_all / (1+accuracy_all)\n",
    "print 'Accuracy Full Set {:.3}'.format(accuracy_all)\n",
    "print 'F1 Full Set {:.3}'.format(f1_all)\n",
    "\n"
   ]
  },
  {
   "cell_type": "code",
   "execution_count": 65,
   "metadata": {
    "collapsed": false
   },
   "outputs": [
    {
     "name": "stdout",
     "output_type": "stream",
     "text": [
      "Training LogisticRegression...\n",
      "Done!\n",
      "Training time (secs): 0.007\n"
     ]
    }
   ],
   "source": [
    "# Train a model\n",
    "import time\n",
    "\n",
    "def train_classifier(clf, X_train, y_train):\n",
    "    print \"Training {}...\".format(clf.__class__.__name__)\n",
    "    start = time.time()\n",
    "    clf.fit(X_train, y_train)\n",
    "    end = time.time()\n",
    "    print \"Done!\\nTraining time (secs): {:.3f}\".format(end - start)\n",
    "\n",
    "# TODO: Choose a model, import it and instantiate an object\n",
    "from sklearn.linear_model import LogisticRegression\n",
    "clf = LogisticRegression()\n",
    "\n",
    "# Fit model to training data\n",
    "train_classifier(clf, X_train, y_train)  # note: using entire training set here\n",
    "#print clf  # you can inspect the learned model by printing it"
   ]
  },
  {
   "cell_type": "code",
   "execution_count": 66,
   "metadata": {
    "collapsed": false
   },
   "outputs": [
    {
     "name": "stdout",
     "output_type": "stream",
     "text": [
      "Predicting labels using LogisticRegression...\n",
      "Done!\n",
      "Prediction time (secs): 0.001\n",
      "F1 score for training set: 0.846846846847\n"
     ]
    }
   ],
   "source": [
    "# Predict on training set and compute F1 score\n",
    "from sklearn.metrics import f1_score\n",
    "\n",
    "def predict_labels(clf, features, target):\n",
    "    print \"Predicting labels using {}...\".format(clf.__class__.__name__)\n",
    "    start = time.time()\n",
    "    y_pred = clf.predict(features)\n",
    "    end = time.time()\n",
    "    print \"Done!\\nPrediction time (secs): {:.3f}\".format(end - start)\n",
    "    return f1_score(target.values, y_pred, pos_label='yes')\n",
    "\n",
    "train_f1_score = predict_labels(clf, X_train, y_train)\n",
    "print \"F1 score for training set: {}\".format(train_f1_score)"
   ]
  },
  {
   "cell_type": "code",
   "execution_count": 67,
   "metadata": {
    "collapsed": false
   },
   "outputs": [
    {
     "name": "stdout",
     "output_type": "stream",
     "text": [
      "Predicting labels using LogisticRegression...\n",
      "Done!\n",
      "Prediction time (secs): 0.000\n",
      "F1 score for test set: 0.805970149254\n"
     ]
    }
   ],
   "source": [
    "# Predict on test data\n",
    "print \"F1 score for test set: {}\".format(predict_labels(clf, X_test, y_test))"
   ]
  },
  {
   "cell_type": "code",
   "execution_count": 68,
   "metadata": {
    "collapsed": false
   },
   "outputs": [
    {
     "name": "stdout",
     "output_type": "stream",
     "text": [
      "------------------------------------------\n",
      "Training set size: 100\n",
      "Training LogisticRegression...\n",
      "Done!\n",
      "Training time (secs): 0.003\n",
      "Predicting labels using LogisticRegression...\n",
      "Done!\n",
      "Prediction time (secs): 0.000\n",
      "F1 score for training set: 0.859259259259\n",
      "Predicting labels using LogisticRegression...\n",
      "Done!\n",
      "Prediction time (secs): 0.000\n",
      "F1 score for test set: 0.764705882353\n",
      "------------------------------------------\n",
      "Training set size: 200\n",
      "Training LogisticRegression...\n",
      "Done!\n",
      "Training time (secs): 0.003\n",
      "Predicting labels using LogisticRegression...\n",
      "Done!\n",
      "Prediction time (secs): 0.000\n",
      "F1 score for training set: 0.85618729097\n",
      "Predicting labels using LogisticRegression...\n",
      "Done!\n",
      "Prediction time (secs): 0.000\n",
      "F1 score for test set: 0.791366906475\n",
      "------------------------------------------\n",
      "Training set size: 300\n",
      "Training LogisticRegression...\n",
      "Done!\n",
      "Training time (secs): 0.005\n",
      "Predicting labels using LogisticRegression...\n",
      "Done!\n",
      "Prediction time (secs): 0.001\n",
      "F1 score for training set: 0.846846846847\n",
      "Predicting labels using LogisticRegression...\n",
      "Done!\n",
      "Prediction time (secs): 0.000\n",
      "F1 score for test set: 0.805970149254\n"
     ]
    }
   ],
   "source": [
    "# Train and predict using different training set sizes\n",
    "def train_predict(clf, X_train, y_train, X_test, y_test):\n",
    "    print \"------------------------------------------\"\n",
    "    print \"Training set size: {}\".format(len(X_train))\n",
    "    train_classifier(clf, X_train, y_train)\n",
    "    print \"F1 score for training set: {}\".format(predict_labels(clf, X_train, y_train))\n",
    "    print \"F1 score for test set: {}\".format(predict_labels(clf, X_test, y_test))\n",
    "\n",
    "# TODO: Run the helper function above for desired subsets of training data\n",
    "# Note: Keep the test set constant\n",
    "sample_size = [100,200,300]\n",
    "from sklearn.linear_model import LogisticRegression\n",
    "clf = LogisticRegression()\n",
    "for size in sample_size:\n",
    "    train_predict(clf, X_train[:size],y_train[:size],X_test,y_test)\n"
   ]
  },
  {
   "cell_type": "markdown",
   "metadata": {},
   "source": [
    "### Model 2 - SVM"
   ]
  },
  {
   "cell_type": "code",
   "execution_count": 69,
   "metadata": {
    "collapsed": false
   },
   "outputs": [
    {
     "name": "stdout",
     "output_type": "stream",
     "text": [
      "------------------------------------------\n",
      "Training set size: 100\n",
      "Training SVC...\n",
      "Done!\n",
      "Training time (secs): 0.001\n",
      "Predicting labels using SVC...\n",
      "Done!\n",
      "Prediction time (secs): 0.001\n",
      "F1 score for training set: 0.927536231884\n",
      "Predicting labels using SVC...\n",
      "Done!\n",
      "Prediction time (secs): 0.001\n",
      "F1 score for test set: 0.773333333333\n",
      "------------------------------------------\n",
      "Training set size: 200\n",
      "Training SVC...\n",
      "Done!\n",
      "Training time (secs): 0.005\n",
      "Predicting labels using SVC...\n",
      "Done!\n",
      "Prediction time (secs): 0.006\n",
      "F1 score for training set: 0.896103896104\n",
      "Predicting labels using SVC...\n",
      "Done!\n",
      "Prediction time (secs): 0.001\n",
      "F1 score for test set: 0.765100671141\n",
      "------------------------------------------\n",
      "Training set size: 300\n",
      "Training SVC...\n",
      "Done!\n",
      "Training time (secs): 0.011\n",
      "Predicting labels using SVC...\n",
      "Done!\n",
      "Prediction time (secs): 0.008\n",
      "F1 score for training set: 0.903083700441\n",
      "Predicting labels using SVC...\n",
      "Done!\n",
      "Prediction time (secs): 0.002\n",
      "F1 score for test set: 0.77027027027\n"
     ]
    }
   ],
   "source": [
    "# TODO: Train and predict using two other models\n",
    "sample_size = [100,200,300]\n",
    "from sklearn.svm import SVC\n",
    "from sklearn.preprocessing import StandardScaler\n",
    "clf = SVC()\n",
    "scaler = StandardScaler().fit(X_train)\n",
    "X_train_scaled = scaler.transform(X_train)\n",
    "X_test_scaled = scaler.transform(X_test)\n",
    "#C_range = np.logspace(-2, 10, 13)\n",
    "#gamma_range = np.logspace(-9, 3, 13)\n",
    "for size in sample_size:\n",
    "    train_predict(clf, X_train_scaled[:size],y_train[:size],X_test_scaled,y_test)"
   ]
  },
  {
   "cell_type": "markdown",
   "metadata": {},
   "source": [
    "### Model 3 - Random Forest"
   ]
  },
  {
   "cell_type": "code",
   "execution_count": 70,
   "metadata": {
    "collapsed": false
   },
   "outputs": [
    {
     "name": "stdout",
     "output_type": "stream",
     "text": [
      "------------------------------------------\n",
      "Training set size: 100\n",
      "Training RandomForestClassifier...\n",
      "Done!\n",
      "Training time (secs): 0.039\n",
      "Predicting labels using RandomForestClassifier...\n",
      "Done!\n",
      "Prediction time (secs): 0.002\n",
      "F1 score for training set: 0.992248062016\n",
      "Predicting labels using RandomForestClassifier...\n",
      "Done!\n",
      "Prediction time (secs): 0.001\n",
      "F1 score for test set: 0.763358778626\n",
      "------------------------------------------\n",
      "Training set size: 200\n",
      "Training RandomForestClassifier...\n",
      "Done!\n",
      "Training time (secs): 0.038\n",
      "Predicting labels using RandomForestClassifier...\n",
      "Done!\n",
      "Prediction time (secs): 0.002\n",
      "F1 score for training set: 1.0\n",
      "Predicting labels using RandomForestClassifier...\n",
      "Done!\n",
      "Prediction time (secs): 0.002\n",
      "F1 score for test set: 0.793893129771\n",
      "------------------------------------------\n",
      "Training set size: 300\n",
      "Training RandomForestClassifier...\n",
      "Done!\n",
      "Training time (secs): 0.035\n",
      "Predicting labels using RandomForestClassifier...\n",
      "Done!\n",
      "Prediction time (secs): 0.001\n",
      "F1 score for training set: 0.99512195122\n",
      "Predicting labels using RandomForestClassifier...\n",
      "Done!\n",
      "Prediction time (secs): 0.001\n",
      "F1 score for test set: 0.742424242424\n"
     ]
    }
   ],
   "source": [
    "# TODO: Train and predict using two other models\n",
    "sample_size = [100,200,300]\n",
    "from sklearn.ensemble import RandomForestClassifier\n",
    "from sklearn.naive_bayes import MultinomialNB\n",
    "clf = RandomForestClassifier()\n",
    "for size in sample_size:\n",
    "    train_predict(clf, X_train[:size],y_train[:size],X_test,y_test)"
   ]
  },
  {
   "cell_type": "markdown",
   "metadata": {},
   "source": [
    "## 5. Choosing the Best Model\n",
    "\n",
    "- Based on the experiments you performed earlier, in 1-2 paragraphs explain to the board of supervisors what single model you chose as the best model. Which model is generally the most appropriate based on the available data, limited resources, cost, and performance?\n",
    "- In 1-2 paragraphs explain to the board of supervisors in layman's terms how the final model chosen is supposed to work (for example if you chose a Decision Tree or Support Vector Machine, how does it make a prediction).\n",
    "- Fine-tune the model. Use Gridsearch with at least one important parameter tuned and with at least 3 settings. Use the entire training set for this.\n",
    "- What is the model's final F<sub>1</sub> score?"
   ]
  },
  {
   "cell_type": "code",
   "execution_count": 71,
   "metadata": {
    "collapsed": false
   },
   "outputs": [
    {
     "name": "stdout",
     "output_type": "stream",
     "text": [
      "Predicting labels using GridSearchCV...\n",
      "Done!\n",
      "Prediction time (secs): 0.005\n",
      "F1 score for training set: 0.852390852391\n",
      "Predicting labels using GridSearchCV...\n",
      "Done!\n",
      "Prediction time (secs): 0.001\n",
      "F1 score for test set: 0.76\n",
      "The best parameters are {'C': 1.0, 'gamma': 0.01} with a score of 0.83\n"
     ]
    }
   ],
   "source": [
    "# TODO: Fine-tune your model and report the best F1 score\n",
    "from sklearn.grid_search import GridSearchCV\n",
    "\n",
    "# log space values ofr C and gamma\n",
    "C_range = np.logspace(-2, 10, 13)\n",
    "gamma_range = np.logspace(-9, 3, 13)\n",
    "param_grid = dict(gamma=gamma_range, C=C_range)\n",
    "\n",
    "# scale the train and test set\n",
    "scaler = StandardScaler().fit(X_train)\n",
    "X_train_scaled = scaler.transform(X_train)\n",
    "X_test_scaled = scaler.transform(X_test)\n",
    "\n",
    "#make f1-scorer\n",
    "from sklearn.metrics import make_scorer\n",
    "scorer = make_scorer(f1_score, pos_label='yes')\n",
    "\n",
    "# run GridSearch\n",
    "clf = GridSearchCV(SVC(), param_grid=param_grid, scoring=scorer)\n",
    "clf.fit(X_train_scaled, y_train)\n",
    "train_f1_score = predict_labels(clf, X_train_scaled, y_train)\n",
    "print \"F1 score for training set: {}\".format(train_f1_score)\n",
    "\n",
    "test_f1_score = predict_labels(clf, X_test_scaled, y_test)\n",
    "print \"F1 score for test set: {}\".format(test_f1_score)\n",
    "\n",
    "print(\"The best parameters are %s with a score of %0.2f\"\n",
    "      % (clf.best_params_, clf.best_score_))"
   ]
  },
  {
   "cell_type": "code",
   "execution_count": 72,
   "metadata": {
    "collapsed": false
   },
   "outputs": [
    {
     "name": "stdout",
     "output_type": "stream",
     "text": [
      "Predicting labels using SVC...\n",
      "Done!\n",
      "Prediction time (secs): 0.007\n",
      "F1 score for training set: 0.852390852391\n",
      "Predicting labels using SVC...\n",
      "Done!\n",
      "Prediction time (secs): 0.002\n",
      "F1 score for test set: 0.76\n",
      "[ 94 134]\n"
     ]
    }
   ],
   "source": [
    "\n",
    "\n",
    "clf = SVC(C=1, gamma=0.01)\n",
    "clf.fit(X_train_scaled, y_train)\n",
    "train_f1_score = predict_labels(clf, X_train_scaled, y_train)\n",
    "print \"F1 score for training set: {}\".format(train_f1_score)\n",
    "\n",
    "test_f1_score = predict_labels(clf, X_test_scaled, y_test)\n",
    "print \"F1 score for test set: {}\".format(test_f1_score)\n",
    "\n",
    "print clf.n_support_"
   ]
  },
  {
   "cell_type": "markdown",
   "metadata": {},
   "source": [
    "#### As the number of support vectors is pretty high. I also tried to check the performance of Logistic regression and see how it performs"
   ]
  },
  {
   "cell_type": "code",
   "execution_count": 73,
   "metadata": {
    "collapsed": false
   },
   "outputs": [
    {
     "name": "stdout",
     "output_type": "stream",
     "text": [
      "Predicting labels using GridSearchCV...\n",
      "Done!\n",
      "Prediction time (secs): 0.000\n",
      "F1 score for training set: 0.830434782609\n",
      "Predicting labels using GridSearchCV...\n",
      "Done!\n",
      "Prediction time (secs): 0.000\n",
      "F1 score for test set: 0.785714285714\n",
      "The best parameters are {'C': 0.10000000000000001} with a score of 0.82\n"
     ]
    }
   ],
   "source": [
    "from sklearn.grid_search import GridSearchCV\n",
    "\n",
    "param_grid = dict(C=C_range)\n",
    "grid= GridSearchCV(LogisticRegression(), param_grid=param_grid, scoring=scorer)\n",
    "grid.fit(X_train, y_train)\n",
    "\n",
    "train_f1_score = predict_labels(grid, X_train, y_train)\n",
    "print \"F1 score for training set: {}\".format(train_f1_score)\n",
    "\n",
    "test_f1_score = predict_labels(grid, X_test, y_test)\n",
    "print \"F1 score for test set: {}\".format(test_f1_score)\n",
    "\n",
    "print(\"The best parameters are %s with a score of %0.2f\"\n",
    "      % (grid.best_params_, grid.best_score_))\n"
   ]
  },
  {
   "cell_type": "code",
   "execution_count": 74,
   "metadata": {
    "collapsed": false
   },
   "outputs": [
    {
     "name": "stdout",
     "output_type": "stream",
     "text": [
      "Predicting labels using LogisticRegression...\n",
      "Done!\n",
      "Prediction time (secs): 0.001\n",
      "F1 score for training set: 0.830434782609\n",
      "Predicting labels using LogisticRegression...\n",
      "Done!\n",
      "Prediction time (secs): 0.000\n",
      "F1 score for test set: 0.785714285714\n"
     ]
    }
   ],
   "source": [
    "clf = LogisticRegression(C=0.1)\n",
    "\n",
    "clf.fit(X_train, y_train)\n",
    "train_f1_score = predict_labels(clf, X_train, y_train)\n",
    "print \"F1 score for training set: {}\".format(train_f1_score)\n",
    "\n",
    "test_f1_score = predict_labels(clf, X_test, y_test)\n",
    "print \"F1 score for test set: {}\".format(test_f1_score)"
   ]
  },
  {
   "cell_type": "code",
   "execution_count": 75,
   "metadata": {
    "collapsed": false
   },
   "outputs": [
    {
     "data": {
      "text/plain": [
       "[('failures', -0.59130627491389531),\n",
       " ('goout', -0.3989501198433168),\n",
       " ('famsup', -0.38997380932758507),\n",
       " ('higher', 0.34245460936305355),\n",
       " ('paid', 0.31118128955490021),\n",
       " ('Mjob_teacher', -0.23224414924118827),\n",
       " ('Mjob_services', 0.21571839252286457),\n",
       " ('reason_reputation', 0.20534331716607968),\n",
       " ('famrel', 0.20050633356820671),\n",
       " ('Mjob_health', 0.19721806684035928),\n",
       " ('schoolsup', -0.19072625632732496),\n",
       " ('sex_M', 0.17911188738168823),\n",
       " ('Fjob_other', 0.17119575898688302),\n",
       " ('studytime', 0.16226147610302788),\n",
       " ('Medu', 0.16027189196105737),\n",
       " ('reason_course', -0.15624817700113014),\n",
       " ('Pstatus_A', 0.14862098482785605),\n",
       " ('freetime', 0.14418645074337824),\n",
       " ('guardian_mother', 0.14340419495140372),\n",
       " ('internet', 0.13767255060153738),\n",
       " ('Walc', 0.11745164668670141),\n",
       " ('nursery', -0.10950594020925147),\n",
       " ('famsize_LE3', 0.10457463234948319),\n",
       " ('Mjob_other', -0.097867967463939234),\n",
       " ('sex_F', -0.088574473324503925),\n",
       " ('romantic', -0.086439027161888032),\n",
       " ('reason_other', 0.069787880160015095),\n",
       " ('Fjob_services', -0.06973626589736491),\n",
       " ('traveltime', 0.068994865386436427),\n",
       " ('Fedu', 0.068097079468497149),\n",
       " ('address_U', 0.063439819380094742),\n",
       " ('Fjob_teacher', 0.058704740968923898),\n",
       " ('Pstatus_T', -0.058083570770675365),\n",
       " ('school_GP', 0.052452120807684126),\n",
       " ('Fjob_health', -0.049498984549209278),\n",
       " ('school_MS', 0.038085293249496034),\n",
       " ('activities', -0.03792887708769347),\n",
       " ('age', -0.036138854925538873),\n",
       " ('guardian_other', -0.032426103715067163),\n",
       " ('reason_home', -0.028345606267783444),\n",
       " ('address_R', 0.027097594677088173),\n",
       " ('health', -0.026603996461065312),\n",
       " ('Dalc', -0.020546592103140662),\n",
       " ('guardian_father', -0.020440677179154518),\n",
       " ('Fjob_at_home', -0.020127835452050977),\n",
       " ('absences', -0.019035824874512011),\n",
       " ('famsize_GT3', -0.014037218292303165),\n",
       " ('Mjob_at_home', 0.0077130713990854237)]"
      ]
     },
     "execution_count": 75,
     "metadata": {},
     "output_type": "execute_result"
    }
   ],
   "source": [
    "weights = zip(list(X_train.columns), clf.coef_[0]) \n",
    "\n",
    "sorted(weights,key=lambda x: abs(x[1]), reverse=True)\n"
   ]
  },
  {
   "cell_type": "code",
   "execution_count": 76,
   "metadata": {
    "collapsed": false
   },
   "outputs": [
    {
     "name": "stdout",
     "output_type": "stream",
     "text": [
      "     failures  goout famsup higher paid\n",
      "0           0      4     no    yes   no\n",
      "1           0      3    yes    yes   no\n",
      "7           0      4    yes    yes   no\n",
      "10          0      3    yes    yes  yes\n",
      "18          3      5    yes    yes   no\n",
      "24          0      2    yes    yes  yes\n",
      "25          2      2    yes    yes  yes\n",
      "35          0      1    yes    yes   no\n",
      "44          1      3     no    yes   no\n",
      "45          0      2    yes    yes  yes\n",
      "49          1      4    yes    yes   no\n",
      "58          0      2    yes    yes   no\n",
      "62          0      3     no    yes   no\n",
      "63          0      4    yes    yes  yes\n",
      "67          0      3    yes    yes  yes\n",
      "68          0      3    yes    yes  yes\n",
      "72          2      4    yes    yes   no\n",
      "79          0      3    yes    yes   no\n",
      "82          0      4    yes    yes  yes\n",
      "85          2      4     no    yes  yes\n",
      "86          0      4    yes    yes   no\n",
      "89          0      3    yes    yes   no\n",
      "90          0      3    yes    yes  yes\n",
      "92          0      3    yes    yes   no\n",
      "99          0      5    yes    yes  yes\n",
      "100         0      5    yes    yes  yes\n",
      "103         0      5    yes    yes  yes\n",
      "106         0      2    yes    yes  yes\n",
      "114         0      2     no    yes   no\n",
      "118         1      4    yes    yes   no\n",
      "124         0      4     no    yes  yes\n",
      "127         3      2    yes     no   no\n",
      "128         2      3    yes    yes   no\n",
      "130         2      2    yes    yes   no\n",
      "131         0      3    yes    yes   no\n",
      "134         0      3    yes    yes   no\n",
      "135         0      3    yes    yes   no\n",
      "136         0      5     no    yes   no\n",
      "137         2      2    yes    yes   no\n",
      "140         0      2    yes    yes   no\n",
      "141         2      3    yes    yes   no\n",
      "144         3      5    yes    yes   no\n",
      "146         3      2    yes    yes   no\n",
      "148         0      2    yes     no   no\n",
      "150         3      5     no     no   no\n",
      "153         3      4    yes     no   no\n",
      "155         0      4     no    yes  yes\n",
      "160         2      2     no     no   no\n",
      "161         2      4    yes    yes   no\n",
      "162         1      4     no    yes   no\n",
      "164         3      5     no     no   no\n",
      "168         0      5    yes    yes  yes\n",
      "170         2      5    yes    yes   no\n",
      "173         3      5     no    yes   no\n",
      "174         0      5    yes    yes  yes\n",
      "175         0      4     no    yes  yes\n",
      "177         0      4     no    yes   no\n",
      "178         0      3    yes    yes   no\n",
      "180         0      3    yes    yes  yes\n",
      "183         0      3    yes    yes   no\n",
      "188         0      3    yes    yes   no\n",
      "191         0      3     no    yes   no\n",
      "192         0      4     no    yes  yes\n",
      "203         0      2    yes    yes   no\n",
      "205         1      3    yes    yes  yes\n",
      "206         3      3    yes    yes  yes\n",
      "209         0      2    yes    yes  yes\n",
      "210         0      3    yes    yes  yes\n",
      "213         1      4    yes    yes  yes\n",
      "216         2      5     no    yes  yes\n",
      "217         1      4    yes    yes  yes\n",
      "218         0      3    yes    yes  yes\n",
      "220         0      5    yes    yes   no\n",
      "221         1      4    yes    yes   no\n",
      "225         1      3     no    yes   no\n",
      "228         0      2    yes    yes  yes\n",
      "232         0      5    yes    yes   no\n",
      "234         0      2    yes    yes  yes\n",
      "239         1      4     no     no   no\n",
      "242         0      5     no    yes   no\n",
      "244         0      4    yes    yes  yes\n",
      "247         3      5     no     no   no\n",
      "248         1      3    yes    yes   no\n",
      "250         1      5     no     no   no\n",
      "252         1      5     no     no   no\n",
      "253         0      2     no    yes   no\n",
      "255         1      4    yes    yes   no\n",
      "259         0      1     no    yes  yes\n",
      "261         0      2    yes    yes  yes\n",
      "263         0      3     no    yes   no\n",
      "264         0      3    yes    yes  yes\n",
      "269         0      5    yes     no   no\n",
      "270         2      5    yes    yes  yes\n",
      "276         0      1     no     no   no\n",
      "277         0      4     no    yes  yes\n",
      "278         1      4    yes    yes   no\n",
      "280         0      4     no    yes  yes\n",
      "296         0      4    yes    yes  yes\n",
      "297         0      5    yes    yes  yes\n",
      "307         1      4    yes    yes  yes\n",
      "310         1      4     no    yes   no\n",
      "316         0      3    yes    yes  yes\n",
      "317         0      4    yes    yes  yes\n",
      "321         0      2    yes    yes   no\n",
      "328         0      4    yes    yes  yes\n",
      "330         0      5    yes    yes   no\n",
      "332         0      4     no    yes   no\n",
      "333         0      3     no    yes   no\n",
      "334         0      4     no    yes   no\n",
      "337         0      2    yes    yes  yes\n",
      "341         1      3    yes    yes   no\n",
      "343         1      1    yes    yes   no\n",
      "347         0      5    yes    yes  yes\n",
      "350         3      4     no    yes   no\n",
      "352         1      3     no     no   no\n",
      "353         1      4    yes    yes   no\n",
      "355         0      4    yes    yes   no\n",
      "367         1      1    yes    yes  yes\n",
      "370         2      2     no    yes   no\n",
      "373         0      5     no    yes   no\n",
      "381         0      3     no    yes   no\n",
      "383         1      2     no    yes   no\n",
      "384         1      3     no    yes  yes\n",
      "386         0      3    yes    yes  yes\n",
      "387         1      2     no    yes   no\n",
      "388         0      4    yes    yes  yes\n",
      "389         1      1     no    yes   no\n",
      "390         2      4    yes    yes  yes\n",
      "392         3      3     no    yes   no\n",
      "394         0      3     no    yes   no\n"
     ]
    }
   ],
   "source": [
    "pd.set_option('display.max_rows', 200)\n",
    "print student_data[student_data['passed'] == 'no'][['failures','goout','famsup','higher','paid']]"
   ]
  }
 ],
 "metadata": {
  "kernelspec": {
   "display_name": "Python 2",
   "language": "python",
   "name": "python2"
  },
  "language_info": {
   "codemirror_mode": {
    "name": "ipython",
    "version": 2
   },
   "file_extension": ".py",
   "mimetype": "text/x-python",
   "name": "python",
   "nbconvert_exporter": "python",
   "pygments_lexer": "ipython2",
   "version": "2.7.11"
  }
 },
 "nbformat": 4,
 "nbformat_minor": 0
}
